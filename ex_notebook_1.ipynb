{
 "cells": [
  {
   "cell_type": "markdown",
   "metadata": {},
   "source": [
    "## Import modules\n",
    "\n",
    "These are the bare minimum models required to run the code in this example notebook.  Feel free to add more if you modify this notebook (for example, if you want to manually make some custom plots, you would likely import matplotlib)."
   ]
  },
  {
   "cell_type": "code",
   "execution_count": 1,
   "metadata": {
    "collapsed": true
   },
   "outputs": [],
   "source": [
    "import numpy as np\n",
    "import pandas as pd\n",
    "from IPython.display import display\n",
    "import ALS"
   ]
  },
  {
   "cell_type": "markdown",
   "metadata": {},
   "source": [
    "## Define/import user model and instantiate KineticModel object"
   ]
  },
  {
   "cell_type": "code",
   "execution_count": 11,
   "metadata": {
    "collapsed": true
   },
   "outputs": [],
   "source": [
    "from ex_model_1 import model_H2O2_depletion\n",
    "model = ALS.KineticModel(model_H2O2_depletion)"
   ]
  },
  {
   "cell_type": "markdown",
   "metadata": {},
   "source": [
    "## Load and organize species data"
   ]
  },
  {
   "cell_type": "markdown",
   "metadata": {},
   "source": [
    "Step 1:"
   ]
  },
  {
   "cell_type": "code",
   "execution_count": 3,
   "metadata": {},
   "outputs": [],
   "source": [
    "tbin = 10                    # tbin used when data was loaded from Igor\n",
    "t_start = -20                # Trim the data to t_start inclusive (ms)\n",
    "t_end = 59.8                 # Trim the data to t_end inclusive (ms)\n",
    "fn_val = 'ex_data_val_1.csv' # Filename for the data values\n",
    "fn_err = 'ex_data_err_1.csv' # Filename for the error in the data\n",
    "\n",
    "dt = 0.02                    # Fundaemental kinetic time step (ms)\n",
    "t = np.linspace(-20,130,num=int(150/(dt*tbin)),endpoint=False)\n",
    "\n",
    "df_val = pd.read_csv(fn_val)\n",
    "df_err = pd.read_csv(fn_err)\n",
    "\n",
    "idx_start = np.abs(t-t_start).argmin()\n",
    "idx_end = np.abs(t-t_end).argmin()\n",
    "drop_indices = np.concatenate((np.arange(idx_start),np.arange(idx_end+1,t.size)))\n",
    "\n",
    "t = t[idx_start:idx_end+1]\n",
    "df_val = df_val.drop(drop_indices, axis=0).reset_index(drop=True)\n",
    "df_err = df_err.drop(drop_indices, axis=0).reset_index(drop=True)"
   ]
  },
  {
   "cell_type": "markdown",
   "metadata": {},
   "source": [
    "Step 2:"
   ]
  },
  {
   "cell_type": "code",
   "execution_count": 4,
   "metadata": {},
   "outputs": [
    {
     "data": {
      "text/html": [
       "<div>\n",
       "<style>\n",
       "    .dataframe thead tr:only-child th {\n",
       "        text-align: right;\n",
       "    }\n",
       "\n",
       "    .dataframe thead th {\n",
       "        text-align: left;\n",
       "    }\n",
       "\n",
       "    .dataframe tbody tr th {\n",
       "        vertical-align: top;\n",
       "    }\n",
       "</style>\n",
       "<table border=\"1\" class=\"dataframe\">\n",
       "  <thead>\n",
       "    <tr style=\"text-align: right;\">\n",
       "      <th></th>\n",
       "      <th>val</th>\n",
       "      <th>err</th>\n",
       "      <th>fit</th>\n",
       "      <th>weight</th>\n",
       "    </tr>\n",
       "  </thead>\n",
       "  <tbody>\n",
       "    <tr>\n",
       "      <th>H2O2</th>\n",
       "      <td>[6135.0, 6162.0, 6025.0, 6005.0, 6027.0, 6101....</td>\n",
       "      <td>[78.326, 78.498, 77.621, 77.492, 77.634, 78.10...</td>\n",
       "      <td>True</td>\n",
       "      <td>1</td>\n",
       "    </tr>\n",
       "    <tr>\n",
       "      <th>HO2</th>\n",
       "      <td>[-3.15, -4.15, -3.15, -4.15, 5.85, 6.85, -1.15...</td>\n",
       "      <td>[5.0, 4.899, 5.0, 4.899, 5.831, 5.9161, 5.1962...</td>\n",
       "      <td>False</td>\n",
       "      <td>1</td>\n",
       "    </tr>\n",
       "    <tr>\n",
       "      <th>OH</th>\n",
       "      <td>[-0.82, 0.18, 0.18, -0.82, -0.82, -0.82, 1.18,...</td>\n",
       "      <td>[1.0, 1.0, 1.0, 1.0, 1.0, 1.0, 1.4142, 1.0, 1....</td>\n",
       "      <td>False</td>\n",
       "      <td>1</td>\n",
       "    </tr>\n",
       "  </tbody>\n",
       "</table>\n",
       "</div>"
      ],
      "text/plain": [
       "                                                    val  \\\n",
       "H2O2  [6135.0, 6162.0, 6025.0, 6005.0, 6027.0, 6101....   \n",
       "HO2   [-3.15, -4.15, -3.15, -4.15, 5.85, 6.85, -1.15...   \n",
       "OH    [-0.82, 0.18, 0.18, -0.82, -0.82, -0.82, 1.18,...   \n",
       "\n",
       "                                                    err    fit  weight  \n",
       "H2O2  [78.326, 78.498, 77.621, 77.492, 77.634, 78.10...   True       1  \n",
       "HO2   [5.0, 4.899, 5.0, 4.899, 5.831, 5.9161, 5.1962...  False       1  \n",
       "OH    [1.0, 1.0, 1.0, 1.0, 1.0, 1.0, 1.4142, 1.0, 1....  False       1  "
      ]
     },
     "metadata": {},
     "output_type": "display_data"
    }
   ],
   "source": [
    "data = {}\n",
    "data['H2O2'] = {'val':df_val['H2O2'].values, 'err':df_err['H2O2'].values, 'fit':True,  'weight':1}\n",
    "data['HO2']  = {'val':df_val['HO2'].values,  'err':df_err['HO2'].values,  'fit':False, 'weight':1}\n",
    "data['OH']   = {'val':df_val['OH'].values,   'err':df_err['OH'].values,   'fit':False, 'weight':1}\n",
    "data = pd.DataFrame.from_dict(data, orient='index')\n",
    "display(data)"
   ]
  },
  {
   "cell_type": "markdown",
   "metadata": {},
   "source": [
    "## Organize model and ALS parameters"
   ]
  },
  {
   "cell_type": "code",
   "execution_count": 59,
   "metadata": {},
   "outputs": [
    {
     "name": "stdout",
     "output_type": "stream",
     "text": [
      "Inputted Model Params:\n"
     ]
    },
    {
     "data": {
      "text/html": [
       "<div>\n",
       "<style>\n",
       "    .dataframe thead tr:only-child th {\n",
       "        text-align: right;\n",
       "    }\n",
       "\n",
       "    .dataframe thead th {\n",
       "        text-align: left;\n",
       "    }\n",
       "\n",
       "    .dataframe tbody tr th {\n",
       "        vertical-align: top;\n",
       "    }\n",
       "</style>\n",
       "<table border=\"1\" class=\"dataframe\">\n",
       "  <thead>\n",
       "    <tr style=\"text-align: right;\">\n",
       "      <th></th>\n",
       "      <th>val</th>\n",
       "      <th>err</th>\n",
       "      <th>fit</th>\n",
       "    </tr>\n",
       "  </thead>\n",
       "  <tbody>\n",
       "    <tr>\n",
       "      <th>P</th>\n",
       "      <td>3.000000e+01</td>\n",
       "      <td>0</td>\n",
       "      <td>False</td>\n",
       "    </tr>\n",
       "    <tr>\n",
       "      <th>T</th>\n",
       "      <td>2.980000e+02</td>\n",
       "      <td>0</td>\n",
       "      <td>False</td>\n",
       "    </tr>\n",
       "    <tr>\n",
       "      <th>X0</th>\n",
       "      <td>4.000000e+12</td>\n",
       "      <td>0</td>\n",
       "      <td>True</td>\n",
       "    </tr>\n",
       "    <tr>\n",
       "      <th>c_H2O2_0</th>\n",
       "      <td>3.250000e+14</td>\n",
       "      <td>0</td>\n",
       "      <td>False</td>\n",
       "    </tr>\n",
       "    <tr>\n",
       "      <th>k_HO2_wall</th>\n",
       "      <td>1.000000e+01</td>\n",
       "      <td>0</td>\n",
       "      <td>False</td>\n",
       "    </tr>\n",
       "    <tr>\n",
       "      <th>k_OH_wall</th>\n",
       "      <td>2.000000e+01</td>\n",
       "      <td>0</td>\n",
       "      <td>False</td>\n",
       "    </tr>\n",
       "  </tbody>\n",
       "</table>\n",
       "</div>"
      ],
      "text/plain": [
       "                     val  err    fit\n",
       "P           3.000000e+01    0  False\n",
       "T           2.980000e+02    0  False\n",
       "X0          4.000000e+12    0   True\n",
       "c_H2O2_0    3.250000e+14    0  False\n",
       "k_HO2_wall  1.000000e+01    0  False\n",
       "k_OH_wall   2.000000e+01    0  False"
      ]
     },
     "metadata": {},
     "output_type": "display_data"
    },
    {
     "name": "stdout",
     "output_type": "stream",
     "text": [
      "Inputted ALS Params:\n"
     ]
    },
    {
     "data": {
      "text/html": [
       "<div>\n",
       "<style>\n",
       "    .dataframe thead tr:only-child th {\n",
       "        text-align: right;\n",
       "    }\n",
       "\n",
       "    .dataframe thead th {\n",
       "        text-align: left;\n",
       "    }\n",
       "\n",
       "    .dataframe tbody tr th {\n",
       "        vertical-align: top;\n",
       "    }\n",
       "</style>\n",
       "<table border=\"1\" class=\"dataframe\">\n",
       "  <thead>\n",
       "    <tr style=\"text-align: right;\">\n",
       "      <th></th>\n",
       "      <th>val</th>\n",
       "      <th>err</th>\n",
       "      <th>fit</th>\n",
       "    </tr>\n",
       "  </thead>\n",
       "  <tbody>\n",
       "    <tr>\n",
       "      <th>A</th>\n",
       "      <td>-3.760000e-01</td>\n",
       "      <td>0</td>\n",
       "      <td>False</td>\n",
       "    </tr>\n",
       "    <tr>\n",
       "      <th>B</th>\n",
       "      <td>4.850000e-03</td>\n",
       "      <td>0</td>\n",
       "      <td>False</td>\n",
       "    </tr>\n",
       "    <tr>\n",
       "      <th>S_H2O2</th>\n",
       "      <td>1.857629e-11</td>\n",
       "      <td>0</td>\n",
       "      <td>False</td>\n",
       "    </tr>\n",
       "    <tr>\n",
       "      <th>S_HO2</th>\n",
       "      <td>5.000000e-14</td>\n",
       "      <td>0</td>\n",
       "      <td>False</td>\n",
       "    </tr>\n",
       "    <tr>\n",
       "      <th>S_OH</th>\n",
       "      <td>5.000000e-14</td>\n",
       "      <td>0</td>\n",
       "      <td>False</td>\n",
       "    </tr>\n",
       "    <tr>\n",
       "      <th>t0</th>\n",
       "      <td>-1.680000e+00</td>\n",
       "      <td>0</td>\n",
       "      <td>False</td>\n",
       "    </tr>\n",
       "  </tbody>\n",
       "</table>\n",
       "</div>"
      ],
      "text/plain": [
       "                 val  err    fit\n",
       "A      -3.760000e-01    0  False\n",
       "B       4.850000e-03    0  False\n",
       "S_H2O2  1.857629e-11    0  False\n",
       "S_HO2   5.000000e-14    0  False\n",
       "S_OH    5.000000e-14    0  False\n",
       "t0     -1.680000e+00    0  False"
      ]
     },
     "metadata": {},
     "output_type": "display_data"
    },
    {
     "name": "stdout",
     "output_type": "stream",
     "text": [
      "1.8576287625418063e-11\n"
     ]
    }
   ],
   "source": [
    "c_H2O2_0 = 3.25e14\n",
    "idx_zero = np.abs(t-(-1.68)).argmin()\n",
    "S_H2O2 = df_val.iloc[:idx_zero,df_val.columns.get_loc('H2O2')].mean() / c_H2O2_0\n",
    "\n",
    "model_params = {}\n",
    "model_params['X0'] =         {'val':4.0e12,     'err':0, 'fit':True}\n",
    "model_params['k_OH_wall'] =  {'val':20.,        'err':0, 'fit':False}\n",
    "model_params['k_HO2_wall'] = {'val':10.,        'err':0, 'fit':False}\n",
    "model_params['T'] =          {'val':298.,       'err':0, 'fit':False}\n",
    "model_params['P'] =          {'val':30.,        'err':0, 'fit':False}\n",
    "model_params['c_H2O2_0'] =   {'val':c_H2O2_0,   'err':0, 'fit':False}\n",
    "model_params = pd.DataFrame.from_dict(model_params, orient='index')\n",
    "\n",
    "print('Inputted Model Params:')\n",
    "display(model_params)\n",
    "\n",
    "ALS_params = {}\n",
    "ALS_params['S_H2O2'] =  {'val':S_H2O2,    'err':0, 'fit':False}\n",
    "ALS_params['S_OH'] =    {'val':5e-14,     'err':0, 'fit':False}\n",
    "ALS_params['S_HO2'] =   {'val':5e-14,     'err':0, 'fit':False}\n",
    "ALS_params['A'] =       {'val':-3.76e-1,  'err':0, 'fit':False}\n",
    "ALS_params['B'] =       {'val':4.85e-3,   'err':0, 'fit':False}\n",
    "ALS_params['t0'] =      {'val':-1.68,     'err':0, 'fit':False}\n",
    "ALS_params = pd.DataFrame.from_dict(ALS_params, orient='index')\n",
    "\n",
    "print('Inputted ALS Params:')\n",
    "display(ALS_params)\n",
    "\n",
    "print(S_H2O2)"
   ]
  },
  {
   "cell_type": "markdown",
   "metadata": {},
   "source": [
    "## Perform a fit"
   ]
  },
  {
   "cell_type": "code",
   "execution_count": 58,
   "metadata": {},
   "outputs": [
    {
     "name": "stdout",
     "output_type": "stream",
     "text": [
      "Optimization terminated successfully.\n",
      "Exit Code = 1\n",
      "Exit Messages = Both actual and predicted relative reductions in the sum of squares\n",
      "  are at most 0.000000\n",
      "\n",
      "Optimized Cost Function Value = 1.40613e+06\n",
      "\n",
      "Optimized Parameters and Standard Errors:\n"
     ]
    },
    {
     "data": {
      "text/html": [
       "<div>\n",
       "<style>\n",
       "    .dataframe thead tr:only-child th {\n",
       "        text-align: right;\n",
       "    }\n",
       "\n",
       "    .dataframe thead th {\n",
       "        text-align: left;\n",
       "    }\n",
       "\n",
       "    .dataframe tbody tr th {\n",
       "        vertical-align: top;\n",
       "    }\n",
       "</style>\n",
       "<table border=\"1\" class=\"dataframe\">\n",
       "  <thead>\n",
       "    <tr style=\"text-align: right;\">\n",
       "      <th></th>\n",
       "      <th>val</th>\n",
       "      <th>err</th>\n",
       "    </tr>\n",
       "  </thead>\n",
       "  <tbody>\n",
       "    <tr>\n",
       "      <th>X0</th>\n",
       "      <td>3.389883e+12</td>\n",
       "      <td>1.978561e+11</td>\n",
       "    </tr>\n",
       "  </tbody>\n",
       "</table>\n",
       "</div>"
      ],
      "text/plain": [
       "             val           err\n",
       "X0  3.389883e+12  1.978561e+11"
      ]
     },
     "metadata": {},
     "output_type": "display_data"
    },
    {
     "name": "stdout",
     "output_type": "stream",
     "text": [
      "\n",
      "Correlation Matrix:\n"
     ]
    },
    {
     "data": {
      "text/html": [
       "<div>\n",
       "<style>\n",
       "    .dataframe thead tr:only-child th {\n",
       "        text-align: right;\n",
       "    }\n",
       "\n",
       "    .dataframe thead th {\n",
       "        text-align: left;\n",
       "    }\n",
       "\n",
       "    .dataframe tbody tr th {\n",
       "        vertical-align: top;\n",
       "    }\n",
       "</style>\n",
       "<table border=\"1\" class=\"dataframe\">\n",
       "  <thead>\n",
       "    <tr style=\"text-align: right;\">\n",
       "      <th></th>\n",
       "      <th>X0</th>\n",
       "    </tr>\n",
       "  </thead>\n",
       "  <tbody>\n",
       "    <tr>\n",
       "      <th>X0</th>\n",
       "      <td>1.0</td>\n",
       "    </tr>\n",
       "  </tbody>\n",
       "</table>\n",
       "</div>"
      ],
      "text/plain": [
       "     X0\n",
       "X0  1.0"
      ]
     },
     "metadata": {},
     "output_type": "display_data"
    },
    {
     "name": "stdout",
     "output_type": "stream",
     "text": [
      "\n"
     ]
    }
   ],
   "source": [
    "df_p, df_cov_p, df_corr_p, cost, mesg, ier = model.fit(t, tbin, data, model_params, ALS_params, err_weight=False)"
   ]
  },
  {
   "cell_type": "code",
   "execution_count": 14,
   "metadata": {},
   "outputs": [],
   "source": [
    "import importlib\n",
    "importlib.reload(ALS)\n",
    "model = ALS.KineticModel(model_H2O2_depletion)"
   ]
  }
 ],
 "metadata": {
  "kernelspec": {
   "display_name": "Python 3",
   "language": "python",
   "name": "python3"
  },
  "language_info": {
   "codemirror_mode": {
    "name": "ipython",
    "version": 3
   },
   "file_extension": ".py",
   "mimetype": "text/x-python",
   "name": "python",
   "nbconvert_exporter": "python",
   "pygments_lexer": "ipython3",
   "version": "3.6.1"
  }
 },
 "nbformat": 4,
 "nbformat_minor": 2
}
